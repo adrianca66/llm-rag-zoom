{
 "cells": [
  {
   "cell_type": "code",
   "execution_count": 1,
   "id": "3c751696-dc7a-4cb2-afc2-c69360c42f41",
   "metadata": {},
   "outputs": [],
   "source": [
    "import openai"
   ]
  },
  {
   "cell_type": "code",
   "execution_count": 2,
   "id": "09359286-f20f-4c0d-9043-54ed37825c80",
   "metadata": {},
   "outputs": [],
   "source": [
    "from openai import OpenAI"
   ]
  },
  {
   "cell_type": "code",
   "execution_count": 4,
   "id": "d161aa3e-ecbf-4b3f-ae0b-786c273b838c",
   "metadata": {},
   "outputs": [],
   "source": [
    "import os"
   ]
  },
  {
   "cell_type": "code",
   "execution_count": 7,
   "id": "2347085e-ce11-4fa5-8f7a-6c03e649ff6a",
   "metadata": {},
   "outputs": [],
   "source": [
    "response = client.chat.completions.create(\n",
    "    model='gpt-4o',\n",
    "    messages=[{\"role\": \"user\", \"content\" : \"is it too late to join the course?\"}]\n",
    ")"
   ]
  },
  {
   "cell_type": "code",
   "execution_count": 11,
   "id": "89ad102d-be74-43ef-85da-042b41d55574",
   "metadata": {},
   "outputs": [
    {
     "data": {
      "text/plain": [
       "\"It's never too late to inquire about joining a course! However, whether you can still join often depends on the specific course's enrollment policies, deadlines, and capacity. Here are a few steps you can take:\\n\\n1. **Check the Course Website:** Look for any enrollment deadlines listed on the course page.\\n2. **Contact the Instructor or Institution:** Reach out directly to the instructor or the admissions office to see if late enrollment is possible.\\n3. **Consider Future Sessions:** If enrollment for the current session is closed, ask if the course will be offered again in the near future.\\n4. **Explore Alternative Options:** Some institutions offer recorded lectures, online versions, or alternative courses that might fit your schedule.\\n\\nGood luck!\""
      ]
     },
     "execution_count": 11,
     "metadata": {},
     "output_type": "execute_result"
    }
   ],
   "source": [
    "response.choices[0].message.content"
   ]
  },
  {
   "cell_type": "code",
   "execution_count": null,
   "id": "01ecd184-b4f2-49ee-b42b-65e820a877e8",
   "metadata": {},
   "outputs": [],
   "source": []
  },
  {
   "cell_type": "code",
   "execution_count": null,
   "id": "cc77f6dc-816d-4bdd-b613-96ce681ba77b",
   "metadata": {},
   "outputs": [],
   "source": []
  }
 ],
 "metadata": {
  "kernelspec": {
   "display_name": "Python 3 (ipykernel)",
   "language": "python",
   "name": "python3"
  },
  "language_info": {
   "codemirror_mode": {
    "name": "ipython",
    "version": 3
   },
   "file_extension": ".py",
   "mimetype": "text/x-python",
   "name": "python",
   "nbconvert_exporter": "python",
   "pygments_lexer": "ipython3",
   "version": "3.10.13"
  }
 },
 "nbformat": 4,
 "nbformat_minor": 5
}
